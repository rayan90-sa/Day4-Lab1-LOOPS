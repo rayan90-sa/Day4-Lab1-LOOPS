{
 "cells": [
  {
   "cell_type": "code",
   "execution_count": 1,
   "id": "d958437f",
   "metadata": {},
   "outputs": [
    {
     "name": "stdout",
     "output_type": "stream",
     "text": [
      "I recommended it . It is good\n"
     ]
    }
   ],
   "source": [
    "movie_boy =3 \n",
    "x  = 5 \n",
    "y = 72.65 \n",
    "if movie_boy >= 4 and y > 80:\n",
    "  print(\"Highly recommended\")\n",
    "elif movie_boy >= 3 and y > 70:\n",
    "  print (\"I recommended it . It is good\")\n",
    "elif movie_boy >= 2 and y > 60:\n",
    "   print (\"You should check it out!\")\n",
    "elif movie_boy >= 2 and y > 50:\n",
    "  print (\"Don't watch it. It is a waste of time\")\n",
    "\n",
    "    "
   ]
  },
  {
   "cell_type": "code",
   "execution_count": 2,
   "id": "5f65b734",
   "metadata": {},
   "outputs": [
    {
     "name": "stdout",
     "output_type": "stream",
     "text": [
      "I recommended it . It is good\n"
     ]
    }
   ],
   "source": [
    "movie_boy =3 \n",
    "x  = 5 \n",
    "y = 72.65 \n",
    "if movie_boy >= 4 and y > 80:\n",
    "  print(\"Highly recommended\")\n",
    "elif movie_boy >= 3 and y > 70:\n",
    "  print (\"I recommended it . It is good\")\n",
    "elif movie_boy >= 2 and y > 60:\n",
    "   print (\"You should check it out!\")\n",
    "elif movie_boy >= 2 and y > 50:\n",
    "  print (\"Don't watch it. It is a waste of time\")\n",
    "\n",
    "    "
   ]
  },
  {
   "cell_type": "code",
   "execution_count": 3,
   "id": "dd56bcb0",
   "metadata": {},
   "outputs": [
    {
     "name": "stdout",
     "output_type": "stream",
     "text": [
      "45\n",
      "46\n",
      "47\n",
      "48\n",
      "49\n",
      "50\n",
      "51\n",
      "52\n",
      "53\n",
      "54\n",
      "55\n",
      "56\n",
      "57\n",
      "58\n",
      "59\n",
      "60\n",
      "61\n",
      "62\n",
      "63\n",
      "64\n",
      "65\n",
      "66\n",
      "67\n",
      "68\n",
      "69\n",
      "70\n",
      "71\n",
      "72\n",
      "73\n",
      "74\n",
      "75\n",
      "76\n",
      "77\n",
      "78\n",
      "79\n",
      "80\n",
      "81\n",
      "82\n",
      "83\n",
      "84\n",
      "85\n",
      "86\n",
      "87\n",
      "88\n",
      "89\n",
      "90\n",
      "91\n",
      "92\n",
      "93\n",
      "94\n",
      "95\n",
      "96\n",
      "97\n",
      "98\n",
      "99\n",
      "100\n",
      "101\n",
      "102\n",
      "103\n",
      "104\n",
      "105\n",
      "106\n",
      "107\n",
      "108\n",
      "109\n",
      "110\n",
      "111\n",
      "112\n",
      "113\n",
      "114\n",
      "115\n",
      "116\n",
      "117\n",
      "118\n",
      "119\n",
      "120\n",
      "121\n",
      "122\n",
      "123\n",
      "124\n",
      "125\n",
      "126\n",
      "127\n",
      "128\n",
      "129\n",
      "130\n",
      "131\n",
      "132\n",
      "133\n",
      "134\n",
      "135\n",
      "136\n",
      "137\n",
      "138\n",
      "139\n",
      "140\n",
      "141\n",
      "142\n",
      "143\n",
      "144\n",
      "145\n",
      "146\n",
      "147\n",
      "148\n",
      "149\n",
      "150\n",
      "151\n",
      "152\n",
      "153\n",
      "154\n",
      "155\n",
      "156\n",
      "157\n",
      "158\n",
      "159\n",
      "160\n",
      "161\n",
      "162\n",
      "163\n",
      "164\n",
      "165\n",
      "166\n",
      "167\n",
      "168\n",
      "169\n",
      "170\n",
      "171\n",
      "172\n",
      "173\n",
      "174\n",
      "175\n",
      "176\n",
      "177\n",
      "178\n",
      "179\n",
      "180\n",
      "181\n",
      "182\n",
      "183\n",
      "184\n",
      "185\n",
      "186\n",
      "187\n",
      "188\n",
      "189\n",
      "190\n",
      "191\n",
      "192\n",
      "193\n",
      "194\n",
      "195\n",
      "196\n",
      "197\n",
      "198\n",
      "199\n",
      "200\n",
      "201\n",
      "202\n",
      "203\n",
      "204\n",
      "205\n",
      "206\n",
      "207\n",
      "208\n",
      "209\n"
     ]
    }
   ],
   "source": [
    "x = range(45 , 210)\n",
    "for c in x :\n",
    "    print(c)"
   ]
  },
  {
   "cell_type": "code",
   "execution_count": null,
   "id": "d7d16522",
   "metadata": {},
   "outputs": [],
   "source": [
    "a = input(\"what is the product of 7 * 24 ?\")\n"
   ]
  },
  {
   "cell_type": "code",
   "execution_count": 5,
   "id": "453dd89b",
   "metadata": {
    "scrolled": true
   },
   "outputs": [
    {
     "name": "stdout",
     "output_type": "stream",
     "text": [
      "what is the product of 7 * 24 ?11\n",
      "Your Answer is wrong try again..\n",
      "what is the product of 7 * 24 ?168\n",
      "You answered this Question correctly\n"
     ]
    }
   ],
   "source": [
    "\n",
    "while True :\n",
    "    a = int(input(\"what is the product of 7 * 24 ?\"))\n",
    "    if a == 168:\n",
    "        print (\"You answered this Question correctly\")\n",
    "        break ;\n",
    "    else :\n",
    "        print (\"Your Answer is wrong try again..\")\n",
    "        "
   ]
  },
  {
   "cell_type": "code",
   "execution_count": null,
   "id": "7a24aa60",
   "metadata": {},
   "outputs": [],
   "source": [
    "while True :\n",
    "    a = input(\"what is the product of 7 * 24 ?\")\n",
    "    if a == 168:\n",
    "        print \"You answered this Question correctly\"\n",
    "        break ;\n",
    "    elif \n",
    "        print \"Your Answer is wrong try again..\""
   ]
  },
  {
   "cell_type": "code",
   "execution_count": null,
   "id": "96694ced",
   "metadata": {},
   "outputs": [],
   "source": [
    "a = input(\"what is the product of 7 * 24 ?\")\n",
    "while True :\n",
    "  \n",
    "    if a == 168:\n",
    "        print \"You answered this Question correctly\"\n",
    "        break ;\n",
    "    elif \n",
    "        print \"Your Answer is wrong try again..\""
   ]
  },
  {
   "cell_type": "code",
   "execution_count": null,
   "id": "492a0cc8",
   "metadata": {},
   "outputs": [],
   "source": [
    "a = input(\"what is the product of 7 * 24 ?\")\n",
    "while True :\n",
    "  \n",
    "    if a == 168:\n",
    "        print \"You answered this Question correctly\"\n",
    "        break ;\n",
    "    elif \n",
    "        print \"Your Answer is wrong try again..\""
   ]
  },
  {
   "cell_type": "code",
   "execution_count": null,
   "id": "2e728f79",
   "metadata": {},
   "outputs": [],
   "source": []
  },
  {
   "cell_type": "code",
   "execution_count": null,
   "id": "9d96e435",
   "metadata": {},
   "outputs": [],
   "source": [
    "print(\"fdn\")"
   ]
  },
  {
   "cell_type": "code",
   "execution_count": null,
   "id": "5917ac5f",
   "metadata": {},
   "outputs": [],
   "source": []
  },
  {
   "cell_type": "code",
   "execution_count": null,
   "id": "df1909c1",
   "metadata": {},
   "outputs": [],
   "source": []
  }
 ],
 "metadata": {
  "kernelspec": {
   "display_name": "Python 3 (ipykernel)",
   "language": "python",
   "name": "python3"
  },
  "language_info": {
   "codemirror_mode": {
    "name": "ipython",
    "version": 3
   },
   "file_extension": ".py",
   "mimetype": "text/x-python",
   "name": "python",
   "nbconvert_exporter": "python",
   "pygments_lexer": "ipython3",
   "version": "3.9.12"
  }
 },
 "nbformat": 4,
 "nbformat_minor": 5
}
